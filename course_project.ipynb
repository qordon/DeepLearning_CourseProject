{
  "cells": [
    {
      "cell_type": "code",
      "execution_count": null,
      "id": "830b7f09",
      "metadata": {
        "id": "830b7f09"
      },
      "outputs": [],
      "source": [
        "import pandas as pd\n",
        "from sklearn.model_selection import train_test_split\n",
        "from sklearn.feature_extraction.text import CountVectorizer\n",
        "from sklearn.naive_bayes import MultinomialNB\n",
        "from sklearn.metrics import classification_report\n",
        "from sklearn.preprocessing import LabelEncoder\n",
        "import json\n",
        "import matplotlib.pyplot as plt\n",
        "import seaborn as sns\n",
        "import numpy as np\n",
        "import string\n",
        "import re\n",
        "import os\n",
        "import tensorflow as tf\n",
        "from tensorflow.keras.preprocessing.sequence import pad_sequences\n",
        "from tensorflow.keras.utils import to_categorical\n",
        "from tensorflow.keras.models import Sequential\n",
        "from tensorflow.keras.layers import Embedding, LSTM, Dense, LSTM\n",
        "from tensorflow.keras.layers import Dense, Embedding, Conv1D, GlobalMaxPooling1D, Dropout\n",
        "from tensorflow.keras.layers import BatchNormalization, GlobalAveragePooling1D"
      ]
    },
    {
      "cell_type": "code",
      "execution_count": null,
      "id": "73ad9205",
      "metadata": {
        "id": "73ad9205"
      },
      "outputs": [],
      "source": [
        "class UkStemmer():\n",
        "    ''' Allows you to perform stemming of words of the Ukrainian language (that is, obtaining the basis of the word).\n",
        "    Contains a single stem_word() method.\n",
        "\n",
        "    Is a slightly 'groomed' version of the stemmer from Amice13: https://github.com/Amice13/ukr_stemmer '''\n",
        "    def __init__(self):\n",
        "        # http://uk.wikipedia.org/wiki/Голосний_звук\n",
        "        self.vowel = r'аеиоуюяіїє'\n",
        "        self.perfectiveground = r'(ив|ивши|ившись|ыв|ывши|ывшись((?<=[ая])(в|вши|вшись)))$'\n",
        "        # http://uk.wikipedia.org/wiki/Рефлексивне_дієслово\n",
        "        self.reflexive = r'(с[яьи])$'\n",
        "        # http://uk.wikipedia.org/wiki/Прикметник + http://wapedia.mobi/uk/Прикметник\n",
        "        self.adjective = r'(ими|ій|ий|а|е|ова|ове|ів|є|їй|єє|еє|я|ім|ем|им|ім|их|іх|ою|йми|іми|у|ю|ого|ому|ої)$'\n",
        "        # http://uk.wikipedia.org/wiki/Дієприкметник\n",
        "        self.participle = r'(ий|ого|ому|им|ім|а|ій|у|ою|ій|і|их|йми|их)$'\n",
        "        # http://uk.wikipedia.org/wiki/Дієслово\n",
        "        self.verb = r'(сь|ся|ив|ать|ять|у|ю|ав|али|учи|ячи|вши|ши|е|ме|ати|яти|є)$'\n",
        "        # http://uk.wikipedia.org/wiki/Іменник\n",
        "        self.noun = r'(а|ев|ов|е|ями|ами|еи|и|ей|ой|ий|й|иям|ям|ием|ем|ам|ом|о|у|ах|иях|ях|ы|ь|ию|ью|ю|ия|ья|я|і|ові|ї|ею|єю|ою|є|еві|ем|єм|ів|їв|ю)$'\n",
        "        self.rvre = r'[аеиоуюяіїє]'\n",
        "        self.derivational = r'[^аеиоуюяіїє][аеиоуюяіїє]+[^аеиоуюяіїє]+[аеиоуюяіїє].*(?<=о)сть?$'\n",
        "        self.RV = ''\n",
        "\n",
        "\n",
        "    def __ukstemmer_search_preprocess(self, word):\n",
        "        word = word.lower()\n",
        "        word = word.replace(\"'\", \"\")\n",
        "        word = word.replace(\"ё\", \"е\")\n",
        "        word = word.replace(\"ъ\", \"ї\")\n",
        "        return word\n",
        "\n",
        "\n",
        "    def __s(self, st, reg, to):\n",
        "        orig = st\n",
        "        self.RV = re.sub(reg, to, st)\n",
        "        return (orig != self.RV)\n",
        "\n",
        "\n",
        "    def stem_word(self, word):\n",
        "        ''' Find the basis (stem) of a word.\n",
        "        1. word - source word (UTF-8 encoded string)\n",
        "        2. returns the stemmed form of the word (UTF-8 encoded string) '''\n",
        "\n",
        "        word = self.__ukstemmer_search_preprocess(word)\n",
        "        if not re.search('[аеиоуюяіїє]', word):\n",
        "            stemma = word\n",
        "        else:\n",
        "            p = re.search(self.rvre, word)\n",
        "            start = word[0:p.span()[1]]\n",
        "            self.RV = word[p.span()[1]:]\n",
        "\n",
        "            # Step 1\n",
        "            if not self.__s(self.RV, self.perfectiveground, ''):\n",
        "\n",
        "                self.__s(self.RV, self.reflexive, '')\n",
        "                if self.__s(self.RV, self.adjective, ''):\n",
        "                    self.__s(self.RV, self.participle, '')\n",
        "                else:\n",
        "                    if not self.__s(self.RV, self.verb, ''):\n",
        "                        self.__s(self.RV, self.noun, '')\n",
        "            # Step 2\n",
        "            self.__s(self.RV, 'и$', '')\n",
        "\n",
        "            # Step 3\n",
        "            if re.search(self.derivational, self.RV):\n",
        "                self.__s(self.RV, 'ость$', '')\n",
        "\n",
        "            # Step 4\n",
        "            if self.__s(self.RV, 'ь$', ''):\n",
        "                self.__s(self.RV, 'ейше?$', '')\n",
        "                self.__s(self.RV, 'нн$', u'н')\n",
        "\n",
        "            stemma = start + self.RV\n",
        "        return stemma\n",
        "\n",
        "\n",
        "    def stemWord(self, word):\n",
        "        ''' Find the basis (stem) of a word.\n",
        "        1. word - source word (UTF-8 encoded string)\n",
        "        2. returns the stemmed form of the word (UTF-8 encoded string)\n",
        "\n",
        "        This method is used to simulate the PyStemmer interface (https://github.com/snowballstem/pystemmer). '''\n",
        "\n",
        "        return self.stem_word(word)"
      ]
    },
    {
      "cell_type": "code",
      "execution_count": null,
      "id": "5acb60b8",
      "metadata": {
        "id": "5acb60b8"
      },
      "outputs": [],
      "source": [
        "stemmer = UkStemmer()"
      ]
    },
    {
      "cell_type": "code",
      "execution_count": null,
      "id": "94ead670",
      "metadata": {
        "id": "94ead670"
      },
      "outputs": [],
      "source": [
        "from nltk.tokenize import word_tokenize\n",
        "from gensim.models import Word2Vec\n",
        "from gensim.utils import simple_preprocess\n",
        "import json\n",
        "import ast"
      ]
    },
    {
      "cell_type": "code",
      "execution_count": null,
      "id": "38c9d827",
      "metadata": {
        "id": "38c9d827"
      },
      "outputs": [],
      "source": [
        "with open('stopwords_ua_list.txt', 'r', encoding=\"utf-8\") as file:\n",
        "    content = file.read()\n",
        "\n",
        "# Parse the content as a Python literal\n",
        "stopwords = ast.literal_eval(content)"
      ]
    },
    {
      "cell_type": "code",
      "execution_count": null,
      "id": "cbf39036",
      "metadata": {
        "id": "cbf39036"
      },
      "outputs": [],
      "source": [
        "def sentence_preprocess(row):\n",
        "    sentence = row[\"title\"]\n",
        "    sentence = ' '.join(simple_preprocess(sentence))\n",
        "    words = word_tokenize(sentence)\n",
        "\n",
        "    words = [w for w in words if w not in stopwords]\n",
        "\n",
        "    for i in range(len(words)):\n",
        "        words[i] = stemmer.stem_word(words[i])\n",
        "    return ' '.join(words)"
      ]
    },
    {
      "cell_type": "code",
      "execution_count": null,
      "id": "642fe8f9",
      "metadata": {
        "id": "642fe8f9"
      },
      "outputs": [],
      "source": [
        "df = pd.read_csv(\"train.csv\")"
      ]
    },
    {
      "cell_type": "code",
      "execution_count": null,
      "id": "6f065a0b",
      "metadata": {
        "id": "6f065a0b"
      },
      "outputs": [],
      "source": [
        "df[\"title_stemmed\"] = df.apply(sentence_preprocess, 1)"
      ]
    },
    {
      "cell_type": "code",
      "execution_count": null,
      "id": "afc3e1ac",
      "metadata": {
        "id": "afc3e1ac",
        "outputId": "ac6ac9ab-b418-47e4-f37a-c7d528f2321b"
      },
      "outputs": [
        {
          "data": {
            "text/html": [
              "<div>\n",
              "<style scoped>\n",
              "    .dataframe tbody tr th:only-of-type {\n",
              "        vertical-align: middle;\n",
              "    }\n",
              "\n",
              "    .dataframe tbody tr th {\n",
              "        vertical-align: top;\n",
              "    }\n",
              "\n",
              "    .dataframe thead th {\n",
              "        text-align: right;\n",
              "    }\n",
              "</style>\n",
              "<table border=\"1\" class=\"dataframe\">\n",
              "  <thead>\n",
              "    <tr style=\"text-align: right;\">\n",
              "      <th></th>\n",
              "      <th>title</th>\n",
              "      <th>text</th>\n",
              "      <th>tags</th>\n",
              "      <th>target</th>\n",
              "      <th>title_stemmed</th>\n",
              "    </tr>\n",
              "  </thead>\n",
              "  <tbody>\n",
              "    <tr>\n",
              "      <th>0</th>\n",
              "      <td>ВЕРНИДУБ: «Наносимо 25 ударів, 15 у ворота, а ...</td>\n",
              "      <td>Головний тренер солігорського «Шахтаря» Юрій В...</td>\n",
              "      <td>Футбол|Інші новини|Шахтар Солігорськ|Юрій Верн...</td>\n",
              "      <td>спорт</td>\n",
              "      <td>вернидуб наносим удар ворот забит сумн</td>\n",
              "    </tr>\n",
              "    <tr>\n",
              "      <th>1</th>\n",
              "      <td>У \"Київстар\" заявляють, що їх обшукала ДФС</td>\n",
              "      <td>Про це на своїй сторінці у Facebook написав пр...</td>\n",
              "      <td>|Київстар|Новини|податкова|ДФС|обшук|</td>\n",
              "      <td>новини</td>\n",
              "      <td>київстар заявляют обшукал дфс</td>\n",
              "    </tr>\n",
              "    <tr>\n",
              "      <th>2</th>\n",
              "      <td>В 2016 році 1% найзаможніших людей вперше ста...</td>\n",
              "      <td>Про це повідомляється в доповіді некомерційної...</td>\n",
              "      <td>|багатство|найбагатші люди світу|Новини|бідність|</td>\n",
              "      <td>новини</td>\n",
              "      <td>найзаможніш люд вперш стан багатш</td>\n",
              "    </tr>\n",
              "    <tr>\n",
              "      <th>3</th>\n",
              "      <td>Шакіл О’Ніл продав шикарний маєток у Флориді в...</td>\n",
              "      <td>Легенда НБА Шакіл О’Ніл продав свій маєток у ...</td>\n",
              "      <td>США|Баскетбол|Флорида|Фото</td>\n",
              "      <td>спорт</td>\n",
              "      <td>шакіл ніл прод шикарн маєток флорид вартіст мл...</td>\n",
              "    </tr>\n",
              "    <tr>\n",
              "      <th>4</th>\n",
              "      <td>У «заблокованій» СБУ B2B Jewelry заявили, що п...</td>\n",
              "      <td>Засновник фінансової піраміди B2B Jewelry Мик...</td>\n",
              "      <td>Служба безпеки України (СБУ)|Финансовая пирами...</td>\n",
              "      <td>бізнес</td>\n",
              "      <td>заблокован сбу jewelry заявил працюют звичайн ...</td>\n",
              "    </tr>\n",
              "    <tr>\n",
              "      <th>...</th>\n",
              "      <td>...</td>\n",
              "      <td>...</td>\n",
              "      <td>...</td>\n",
              "      <td>...</td>\n",
              "      <td>...</td>\n",
              "    </tr>\n",
              "    <tr>\n",
              "      <th>120412</th>\n",
              "      <td>Моряка Ейдера могли заразити гепатитом під ча...</td>\n",
              "      <td>Про це заявила Уповноважена Верховної Ради Укр...</td>\n",
              "      <td>|Керченська протока|Людмила Денісова|Андрій Ей...</td>\n",
              "      <td>новини</td>\n",
              "      <td>моряк ейдер заразит гепатит операці деніс</td>\n",
              "    </tr>\n",
              "    <tr>\n",
              "      <th>120413</th>\n",
              "      <td>\"Укргазвидобування\" працює в інтересах російс...</td>\n",
              "      <td>Про це сьогодні на брифінгу у Верховній Раді з...</td>\n",
              "      <td>|Михайло Головко|Росія|Новини|Укргазвидобування|</td>\n",
              "      <td>політика</td>\n",
              "      <td>працю інтерес російськ спецслужб головк</td>\n",
              "    </tr>\n",
              "    <tr>\n",
              "      <th>120414</th>\n",
              "      <td>До 300 Мвт на годину. Україна відновила імпорт...</td>\n",
              "      <td>України 1 лютого почала здійснювати імпорт ел...</td>\n",
              "      <td>Енергетика|Електроенергія</td>\n",
              "      <td>бізнес</td>\n",
              "      <td>мвт годин україн відновил імпорт електроенергі рф</td>\n",
              "    </tr>\n",
              "    <tr>\n",
              "      <th>120415</th>\n",
              "      <td>Берлусконі каже, що анексія Криму була \"демок...</td>\n",
              "      <td>Про це повідомляє Еспресо.TV з посиланням на R...</td>\n",
              "      <td>|анексія Криму|Росія|Сільвіо Берлусконі|Новини...</td>\n",
              "      <td>політика</td>\n",
              "      <td>берлускон анекс крим демократичн путін номер світ</td>\n",
              "    </tr>\n",
              "    <tr>\n",
              "      <th>120416</th>\n",
              "      <td>В Україні не буде жодної федералізації, - Пор...</td>\n",
              "      <td>В Україні не буде дозволено жодної федералізац...</td>\n",
              "      <td>|федералізація|Петро Порошенко|Новини|</td>\n",
              "      <td>політика</td>\n",
              "      <td>україн федералізаці порошенк</td>\n",
              "    </tr>\n",
              "  </tbody>\n",
              "</table>\n",
              "<p>120417 rows × 5 columns</p>\n",
              "</div>"
            ],
            "text/plain": [
              "                                                    title  \\\n",
              "0       ВЕРНИДУБ: «Наносимо 25 ударів, 15 у ворота, а ...   \n",
              "1             У \"Київстар\" заявляють, що їх обшукала ДФС    \n",
              "2        В 2016 році 1% найзаможніших людей вперше ста...   \n",
              "3       Шакіл О’Ніл продав шикарний маєток у Флориді в...   \n",
              "4       У «заблокованій» СБУ B2B Jewelry заявили, що п...   \n",
              "...                                                   ...   \n",
              "120412   Моряка Ейдера могли заразити гепатитом під ча...   \n",
              "120413   \"Укргазвидобування\" працює в інтересах російс...   \n",
              "120414  До 300 Мвт на годину. Україна відновила імпорт...   \n",
              "120415   Берлусконі каже, що анексія Криму була \"демок...   \n",
              "120416   В Україні не буде жодної федералізації, - Пор...   \n",
              "\n",
              "                                                     text  \\\n",
              "0       Головний тренер солігорського «Шахтаря» Юрій В...   \n",
              "1       Про це на своїй сторінці у Facebook написав пр...   \n",
              "2       Про це повідомляється в доповіді некомерційної...   \n",
              "3        Легенда НБА Шакіл О’Ніл продав свій маєток у ...   \n",
              "4        Засновник фінансової піраміди B2B Jewelry Мик...   \n",
              "...                                                   ...   \n",
              "120412  Про це заявила Уповноважена Верховної Ради Укр...   \n",
              "120413  Про це сьогодні на брифінгу у Верховній Раді з...   \n",
              "120414   України 1 лютого почала здійснювати імпорт ел...   \n",
              "120415  Про це повідомляє Еспресо.TV з посиланням на R...   \n",
              "120416  В Україні не буде дозволено жодної федералізац...   \n",
              "\n",
              "                                                     tags    target  \\\n",
              "0       Футбол|Інші новини|Шахтар Солігорськ|Юрій Верн...     спорт   \n",
              "1                   |Київстар|Новини|податкова|ДФС|обшук|    новини   \n",
              "2       |багатство|найбагатші люди світу|Новини|бідність|    новини   \n",
              "3                              США|Баскетбол|Флорида|Фото     спорт   \n",
              "4       Служба безпеки України (СБУ)|Финансовая пирами...    бізнес   \n",
              "...                                                   ...       ...   \n",
              "120412  |Керченська протока|Людмила Денісова|Андрій Ей...    новини   \n",
              "120413   |Михайло Головко|Росія|Новини|Укргазвидобування|  політика   \n",
              "120414                          Енергетика|Електроенергія    бізнес   \n",
              "120415  |анексія Криму|Росія|Сільвіо Берлусконі|Новини...  політика   \n",
              "120416             |федералізація|Петро Порошенко|Новини|  політика   \n",
              "\n",
              "                                            title_stemmed  \n",
              "0                  вернидуб наносим удар ворот забит сумн  \n",
              "1                           київстар заявляют обшукал дфс  \n",
              "2                       найзаможніш люд вперш стан багатш  \n",
              "3       шакіл ніл прод шикарн маєток флорид вартіст мл...  \n",
              "4       заблокован сбу jewelry заявил працюют звичайн ...  \n",
              "...                                                   ...  \n",
              "120412          моряк ейдер заразит гепатит операці деніс  \n",
              "120413            працю інтерес російськ спецслужб головк  \n",
              "120414  мвт годин україн відновил імпорт електроенергі рф  \n",
              "120415  берлускон анекс крим демократичн путін номер світ  \n",
              "120416                       україн федералізаці порошенк  \n",
              "\n",
              "[120417 rows x 5 columns]"
            ]
          },
          "execution_count": 41,
          "metadata": {},
          "output_type": "execute_result"
        }
      ],
      "source": [
        "df"
      ]
    },
    {
      "cell_type": "code",
      "execution_count": null,
      "id": "9c3263c5",
      "metadata": {
        "id": "9c3263c5"
      },
      "outputs": [],
      "source": [
        "label_encoder = LabelEncoder()\n",
        "df[\"target_encoded\"] = label_encoder.fit_transform(df[\"target\"])\n",
        "target_dict = dict(zip(df['target_encoded'], df['target']))"
      ]
    },
    {
      "cell_type": "code",
      "execution_count": null,
      "id": "f0359eb5",
      "metadata": {
        "id": "f0359eb5"
      },
      "outputs": [],
      "source": [
        "df.drop([\"title\", \"text\", \"tags\", \"target\"], axis=1, inplace=True)"
      ]
    },
    {
      "cell_type": "code",
      "execution_count": null,
      "id": "7de2fa57",
      "metadata": {
        "id": "7de2fa57"
      },
      "outputs": [],
      "source": [
        "df.to_csv(\"stemmed_data.csv\", index=False)"
      ]
    },
    {
      "cell_type": "code",
      "execution_count": null,
      "id": "94bb4e3e",
      "metadata": {
        "id": "94bb4e3e",
        "outputId": "a8c68c92-8cb7-4615-92a5-ace188c01f58"
      },
      "outputs": [
        {
          "data": {
            "text/html": [
              "<div>\n",
              "<style scoped>\n",
              "    .dataframe tbody tr th:only-of-type {\n",
              "        vertical-align: middle;\n",
              "    }\n",
              "\n",
              "    .dataframe tbody tr th {\n",
              "        vertical-align: top;\n",
              "    }\n",
              "\n",
              "    .dataframe thead th {\n",
              "        text-align: right;\n",
              "    }\n",
              "</style>\n",
              "<table border=\"1\" class=\"dataframe\">\n",
              "  <thead>\n",
              "    <tr style=\"text-align: right;\">\n",
              "      <th></th>\n",
              "      <th>title_stemmed</th>\n",
              "      <th>target_encoded</th>\n",
              "    </tr>\n",
              "  </thead>\n",
              "  <tbody>\n",
              "    <tr>\n",
              "      <th>0</th>\n",
              "      <td>вернидуб наносим удар ворот забит сумн</td>\n",
              "      <td>3</td>\n",
              "    </tr>\n",
              "    <tr>\n",
              "      <th>1</th>\n",
              "      <td>київстар заявляют обшукал дфс</td>\n",
              "      <td>1</td>\n",
              "    </tr>\n",
              "    <tr>\n",
              "      <th>2</th>\n",
              "      <td>найзаможніш люд вперш стан багатш</td>\n",
              "      <td>1</td>\n",
              "    </tr>\n",
              "    <tr>\n",
              "      <th>3</th>\n",
              "      <td>шакіл ніл прод шикарн маєток флорид вартіст мл...</td>\n",
              "      <td>3</td>\n",
              "    </tr>\n",
              "    <tr>\n",
              "      <th>4</th>\n",
              "      <td>заблокован сбу jewelry заявил працюют звичайн ...</td>\n",
              "      <td>0</td>\n",
              "    </tr>\n",
              "    <tr>\n",
              "      <th>...</th>\n",
              "      <td>...</td>\n",
              "      <td>...</td>\n",
              "    </tr>\n",
              "    <tr>\n",
              "      <th>120412</th>\n",
              "      <td>моряк ейдер заразит гепатит операці деніс</td>\n",
              "      <td>1</td>\n",
              "    </tr>\n",
              "    <tr>\n",
              "      <th>120413</th>\n",
              "      <td>працю інтерес російськ спецслужб головк</td>\n",
              "      <td>2</td>\n",
              "    </tr>\n",
              "    <tr>\n",
              "      <th>120414</th>\n",
              "      <td>мвт годин україн відновил імпорт електроенергі рф</td>\n",
              "      <td>0</td>\n",
              "    </tr>\n",
              "    <tr>\n",
              "      <th>120415</th>\n",
              "      <td>берлускон анекс крим демократичн путін номер світ</td>\n",
              "      <td>2</td>\n",
              "    </tr>\n",
              "    <tr>\n",
              "      <th>120416</th>\n",
              "      <td>україн федералізаці порошенк</td>\n",
              "      <td>2</td>\n",
              "    </tr>\n",
              "  </tbody>\n",
              "</table>\n",
              "<p>120417 rows × 2 columns</p>\n",
              "</div>"
            ],
            "text/plain": [
              "                                            title_stemmed  target_encoded\n",
              "0                  вернидуб наносим удар ворот забит сумн               3\n",
              "1                           київстар заявляют обшукал дфс               1\n",
              "2                       найзаможніш люд вперш стан багатш               1\n",
              "3       шакіл ніл прод шикарн маєток флорид вартіст мл...               3\n",
              "4       заблокован сбу jewelry заявил працюют звичайн ...               0\n",
              "...                                                   ...             ...\n",
              "120412          моряк ейдер заразит гепатит операці деніс               1\n",
              "120413            працю інтерес російськ спецслужб головк               2\n",
              "120414  мвт годин україн відновил імпорт електроенергі рф               0\n",
              "120415  берлускон анекс крим демократичн путін номер світ               2\n",
              "120416                       україн федералізаці порошенк               2\n",
              "\n",
              "[120417 rows x 2 columns]"
            ]
          },
          "execution_count": 50,
          "metadata": {},
          "output_type": "execute_result"
        }
      ],
      "source": [
        "df"
      ]
    },
    {
      "cell_type": "code",
      "execution_count": null,
      "id": "1c0e8181",
      "metadata": {
        "id": "1c0e8181"
      },
      "outputs": [],
      "source": [
        "import pandas as pd\n",
        "from sklearn.model_selection import train_test_split\n",
        "from keras.preprocessing.text import Tokenizer\n",
        "from keras.models import Sequential\n",
        "from keras.layers import Embedding, LSTM, Dense\n",
        "from keras.layers import Dense, Input, Flatten\n",
        "from keras.layers import GlobalAveragePooling1D, Embedding, Conv1D, MaxPooling1D\n",
        "from keras.models import Model\n",
        "import io\n",
        "import matplotlib.pyplot as plt"
      ]
    },
    {
      "cell_type": "code",
      "source": [
        "from google.colab import files\n",
        "uploaded = files.upload()"
      ],
      "metadata": {
        "colab": {
          "base_uri": "https://localhost:8080/",
          "height": 73
        },
        "id": "GWQPCnFQy4HC",
        "outputId": "7b6847d6-1d9e-4635-b3ed-8f7a84ccfdb3"
      },
      "id": "GWQPCnFQy4HC",
      "execution_count": null,
      "outputs": [
        {
          "output_type": "display_data",
          "data": {
            "text/plain": [
              "<IPython.core.display.HTML object>"
            ],
            "text/html": [
              "\n",
              "     <input type=\"file\" id=\"files-75c7c37f-2497-4778-82ad-0a6dc7147cba\" name=\"files[]\" multiple disabled\n",
              "        style=\"border:none\" />\n",
              "     <output id=\"result-75c7c37f-2497-4778-82ad-0a6dc7147cba\">\n",
              "      Upload widget is only available when the cell has been executed in the\n",
              "      current browser session. Please rerun this cell to enable.\n",
              "      </output>\n",
              "      <script>// Copyright 2017 Google LLC\n",
              "//\n",
              "// Licensed under the Apache License, Version 2.0 (the \"License\");\n",
              "// you may not use this file except in compliance with the License.\n",
              "// You may obtain a copy of the License at\n",
              "//\n",
              "//      http://www.apache.org/licenses/LICENSE-2.0\n",
              "//\n",
              "// Unless required by applicable law or agreed to in writing, software\n",
              "// distributed under the License is distributed on an \"AS IS\" BASIS,\n",
              "// WITHOUT WARRANTIES OR CONDITIONS OF ANY KIND, either express or implied.\n",
              "// See the License for the specific language governing permissions and\n",
              "// limitations under the License.\n",
              "\n",
              "/**\n",
              " * @fileoverview Helpers for google.colab Python module.\n",
              " */\n",
              "(function(scope) {\n",
              "function span(text, styleAttributes = {}) {\n",
              "  const element = document.createElement('span');\n",
              "  element.textContent = text;\n",
              "  for (const key of Object.keys(styleAttributes)) {\n",
              "    element.style[key] = styleAttributes[key];\n",
              "  }\n",
              "  return element;\n",
              "}\n",
              "\n",
              "// Max number of bytes which will be uploaded at a time.\n",
              "const MAX_PAYLOAD_SIZE = 100 * 1024;\n",
              "\n",
              "function _uploadFiles(inputId, outputId) {\n",
              "  const steps = uploadFilesStep(inputId, outputId);\n",
              "  const outputElement = document.getElementById(outputId);\n",
              "  // Cache steps on the outputElement to make it available for the next call\n",
              "  // to uploadFilesContinue from Python.\n",
              "  outputElement.steps = steps;\n",
              "\n",
              "  return _uploadFilesContinue(outputId);\n",
              "}\n",
              "\n",
              "// This is roughly an async generator (not supported in the browser yet),\n",
              "// where there are multiple asynchronous steps and the Python side is going\n",
              "// to poll for completion of each step.\n",
              "// This uses a Promise to block the python side on completion of each step,\n",
              "// then passes the result of the previous step as the input to the next step.\n",
              "function _uploadFilesContinue(outputId) {\n",
              "  const outputElement = document.getElementById(outputId);\n",
              "  const steps = outputElement.steps;\n",
              "\n",
              "  const next = steps.next(outputElement.lastPromiseValue);\n",
              "  return Promise.resolve(next.value.promise).then((value) => {\n",
              "    // Cache the last promise value to make it available to the next\n",
              "    // step of the generator.\n",
              "    outputElement.lastPromiseValue = value;\n",
              "    return next.value.response;\n",
              "  });\n",
              "}\n",
              "\n",
              "/**\n",
              " * Generator function which is called between each async step of the upload\n",
              " * process.\n",
              " * @param {string} inputId Element ID of the input file picker element.\n",
              " * @param {string} outputId Element ID of the output display.\n",
              " * @return {!Iterable<!Object>} Iterable of next steps.\n",
              " */\n",
              "function* uploadFilesStep(inputId, outputId) {\n",
              "  const inputElement = document.getElementById(inputId);\n",
              "  inputElement.disabled = false;\n",
              "\n",
              "  const outputElement = document.getElementById(outputId);\n",
              "  outputElement.innerHTML = '';\n",
              "\n",
              "  const pickedPromise = new Promise((resolve) => {\n",
              "    inputElement.addEventListener('change', (e) => {\n",
              "      resolve(e.target.files);\n",
              "    });\n",
              "  });\n",
              "\n",
              "  const cancel = document.createElement('button');\n",
              "  inputElement.parentElement.appendChild(cancel);\n",
              "  cancel.textContent = 'Cancel upload';\n",
              "  const cancelPromise = new Promise((resolve) => {\n",
              "    cancel.onclick = () => {\n",
              "      resolve(null);\n",
              "    };\n",
              "  });\n",
              "\n",
              "  // Wait for the user to pick the files.\n",
              "  const files = yield {\n",
              "    promise: Promise.race([pickedPromise, cancelPromise]),\n",
              "    response: {\n",
              "      action: 'starting',\n",
              "    }\n",
              "  };\n",
              "\n",
              "  cancel.remove();\n",
              "\n",
              "  // Disable the input element since further picks are not allowed.\n",
              "  inputElement.disabled = true;\n",
              "\n",
              "  if (!files) {\n",
              "    return {\n",
              "      response: {\n",
              "        action: 'complete',\n",
              "      }\n",
              "    };\n",
              "  }\n",
              "\n",
              "  for (const file of files) {\n",
              "    const li = document.createElement('li');\n",
              "    li.append(span(file.name, {fontWeight: 'bold'}));\n",
              "    li.append(span(\n",
              "        `(${file.type || 'n/a'}) - ${file.size} bytes, ` +\n",
              "        `last modified: ${\n",
              "            file.lastModifiedDate ? file.lastModifiedDate.toLocaleDateString() :\n",
              "                                    'n/a'} - `));\n",
              "    const percent = span('0% done');\n",
              "    li.appendChild(percent);\n",
              "\n",
              "    outputElement.appendChild(li);\n",
              "\n",
              "    const fileDataPromise = new Promise((resolve) => {\n",
              "      const reader = new FileReader();\n",
              "      reader.onload = (e) => {\n",
              "        resolve(e.target.result);\n",
              "      };\n",
              "      reader.readAsArrayBuffer(file);\n",
              "    });\n",
              "    // Wait for the data to be ready.\n",
              "    let fileData = yield {\n",
              "      promise: fileDataPromise,\n",
              "      response: {\n",
              "        action: 'continue',\n",
              "      }\n",
              "    };\n",
              "\n",
              "    // Use a chunked sending to avoid message size limits. See b/62115660.\n",
              "    let position = 0;\n",
              "    do {\n",
              "      const length = Math.min(fileData.byteLength - position, MAX_PAYLOAD_SIZE);\n",
              "      const chunk = new Uint8Array(fileData, position, length);\n",
              "      position += length;\n",
              "\n",
              "      const base64 = btoa(String.fromCharCode.apply(null, chunk));\n",
              "      yield {\n",
              "        response: {\n",
              "          action: 'append',\n",
              "          file: file.name,\n",
              "          data: base64,\n",
              "        },\n",
              "      };\n",
              "\n",
              "      let percentDone = fileData.byteLength === 0 ?\n",
              "          100 :\n",
              "          Math.round((position / fileData.byteLength) * 100);\n",
              "      percent.textContent = `${percentDone}% done`;\n",
              "\n",
              "    } while (position < fileData.byteLength);\n",
              "  }\n",
              "\n",
              "  // All done.\n",
              "  yield {\n",
              "    response: {\n",
              "      action: 'complete',\n",
              "    }\n",
              "  };\n",
              "}\n",
              "\n",
              "scope.google = scope.google || {};\n",
              "scope.google.colab = scope.google.colab || {};\n",
              "scope.google.colab._files = {\n",
              "  _uploadFiles,\n",
              "  _uploadFilesContinue,\n",
              "};\n",
              "})(self);\n",
              "</script> "
            ]
          },
          "metadata": {}
        },
        {
          "output_type": "stream",
          "name": "stdout",
          "text": [
            "Saving stemmed_data.csv to stemmed_data.csv\n"
          ]
        }
      ]
    },
    {
      "cell_type": "code",
      "source": [
        "df = pd.read_csv(io.StringIO(uploaded['stemmed_data.csv'].decode('utf-8')))"
      ],
      "metadata": {
        "id": "IvRaPaAKyoZP"
      },
      "id": "IvRaPaAKyoZP",
      "execution_count": null,
      "outputs": []
    },
    {
      "cell_type": "code",
      "execution_count": null,
      "id": "b3a7a9d6",
      "metadata": {
        "id": "b3a7a9d6"
      },
      "outputs": [],
      "source": [
        "#df = pd.read_csv(\"stemmed_data.csv\")\n",
        "df.dropna(inplace=True)"
      ]
    },
    {
      "cell_type": "code",
      "execution_count": null,
      "id": "4d63009b",
      "metadata": {
        "id": "4d63009b"
      },
      "outputs": [],
      "source": [
        "texts = df['title_stemmed'].values\n",
        "labels = df['target_encoded'].values\n",
        "\n",
        "train_texts, test_texts, train_labels, test_labels = train_test_split(texts, labels, test_size=0.2, random_state=42)\n",
        "train_labels = to_categorical(train_labels)\n",
        "test_labels = to_categorical(test_labels)\n",
        "tokenizer = Tokenizer()"
      ]
    },
    {
      "cell_type": "code",
      "execution_count": null,
      "id": "2b7842b2",
      "metadata": {
        "id": "2b7842b2"
      },
      "outputs": [],
      "source": [
        "tokenizer.fit_on_texts(train_texts)\n",
        "\n",
        "train_sequences = tokenizer.texts_to_sequences(train_texts)\n",
        "test_sequences = tokenizer.texts_to_sequences(test_texts)"
      ]
    },
    {
      "cell_type": "code",
      "execution_count": null,
      "id": "01e4cf39",
      "metadata": {
        "id": "01e4cf39"
      },
      "outputs": [],
      "source": [
        "max_seq_length = max(len(seq) for seq in train_sequences)\n",
        "train_sequences = pad_sequences(train_sequences, maxlen=max_seq_length, padding=\"post\")\n",
        "test_sequences = pad_sequences(test_sequences, maxlen=max_seq_length, padding=\"post\")\n",
        "\n",
        "vocab_size = len(tokenizer.word_index) + 1\n",
        "embedding_size = 100\n",
        "num_classes = 5"
      ]
    },
    {
      "cell_type": "markdown",
      "id": "80d85f21",
      "metadata": {
        "id": "80d85f21"
      },
      "source": [
        "# First model"
      ]
    },
    {
      "cell_type": "code",
      "execution_count": null,
      "id": "b0566358",
      "metadata": {
        "colab": {
          "base_uri": "https://localhost:8080/"
        },
        "id": "b0566358",
        "outputId": "d926f6d1-17d5-426a-f466-fc9edbe481e1"
      },
      "outputs": [
        {
          "output_type": "stream",
          "name": "stdout",
          "text": [
            "Model: \"sequential_1\"\n",
            "_________________________________________________________________\n",
            " Layer (type)                Output Shape              Param #   \n",
            "=================================================================\n",
            " embedding_1 (Embedding)     (None, 23, 100)           4005500   \n",
            "                                                                 \n",
            " global_average_pooling1d (  (None, 100)               0         \n",
            " GlobalAveragePooling1D)                                         \n",
            "                                                                 \n",
            " dense_2 (Dense)             (None, 24)                2424      \n",
            "                                                                 \n",
            " dropout_1 (Dropout)         (None, 24)                0         \n",
            "                                                                 \n",
            " dense_3 (Dense)             (None, 5)                 125       \n",
            "                                                                 \n",
            "=================================================================\n",
            "Total params: 4008049 (15.29 MB)\n",
            "Trainable params: 4008049 (15.29 MB)\n",
            "Non-trainable params: 0 (0.00 Byte)\n",
            "_________________________________________________________________\n"
          ]
        }
      ],
      "source": [
        "model = Sequential()\n",
        "model.add(Embedding(vocab_size, embedding_size, input_length=max_seq_length))\n",
        "model.add(GlobalAveragePooling1D())\n",
        "model.add(Dense(24, activation='relu'))\n",
        "model.add(Dropout(0.2))\n",
        "model.add(Dense(num_classes, activation='softmax'))\n",
        "model.compile(loss='categorical_crossentropy', optimizer='adam', metrics=['accuracy'])\n",
        "model.summary()"
      ]
    },
    {
      "cell_type": "code",
      "execution_count": null,
      "id": "0e71940e",
      "metadata": {
        "colab": {
          "base_uri": "https://localhost:8080/"
        },
        "id": "0e71940e",
        "outputId": "136836d9-a052-487b-c15c-3505ecc9328b"
      },
      "outputs": [
        {
          "output_type": "stream",
          "name": "stdout",
          "text": [
            "Epoch 1/5\n",
            "1506/1506 [==============================] - 98s 64ms/step - loss: 0.6681 - accuracy: 0.7502 - val_loss: 0.3409 - val_accuracy: 0.8756\n",
            "Epoch 2/5\n",
            "1506/1506 [==============================] - 88s 58ms/step - loss: 0.2911 - accuracy: 0.8979 - val_loss: 0.3089 - val_accuracy: 0.8851\n",
            "Epoch 3/5\n",
            "1506/1506 [==============================] - 90s 59ms/step - loss: 0.2134 - accuracy: 0.9256 - val_loss: 0.3167 - val_accuracy: 0.8842\n",
            "Epoch 4/5\n",
            "1506/1506 [==============================] - 92s 61ms/step - loss: 0.1704 - accuracy: 0.9410 - val_loss: 0.3403 - val_accuracy: 0.8792\n",
            "Epoch 5/5\n",
            "1506/1506 [==============================] - 94s 62ms/step - loss: 0.1408 - accuracy: 0.9510 - val_loss: 0.3652 - val_accuracy: 0.8780\n"
          ]
        }
      ],
      "source": [
        "batch_size = 64\n",
        "epochs = 5\n",
        "with tf.device('/GPU:0'):\n",
        "    history = model.fit(train_sequences, train_labels, batch_size=batch_size, epochs=epochs, validation_data=(test_sequences, test_labels))"
      ]
    },
    {
      "cell_type": "code",
      "execution_count": null,
      "id": "49b1374c",
      "metadata": {
        "id": "49b1374c",
        "colab": {
          "base_uri": "https://localhost:8080/"
        },
        "outputId": "60c3c053-71cc-48f7-c065-1c7b9b198ef3"
      },
      "outputs": [
        {
          "output_type": "stream",
          "name": "stdout",
          "text": [
            "753/753 [==============================] - 1s 2ms/step - loss: 0.3652 - accuracy: 0.8780\n"
          ]
        }
      ],
      "source": [
        "loss, accuracy = model.evaluate(test_sequences, test_labels)"
      ]
    },
    {
      "cell_type": "code",
      "source": [
        "predictions = model.predict(test_sequences)\n",
        "predicted_labels = np.argmax(predictions, axis=1)\n",
        "\n",
        "print(classification_report(np.argmax(test_labels, axis=1), predicted_labels))"
      ],
      "metadata": {
        "id": "VFfWvJbd3WKg",
        "colab": {
          "base_uri": "https://localhost:8080/"
        },
        "outputId": "779bf7f0-d584-4206-ddf3-bfc981a0e972"
      },
      "id": "VFfWvJbd3WKg",
      "execution_count": null,
      "outputs": [
        {
          "output_type": "stream",
          "name": "stdout",
          "text": [
            "753/753 [==============================] - 2s 3ms/step\n",
            "              precision    recall  f1-score   support\n",
            "\n",
            "           0       0.74      0.73      0.74      2943\n",
            "           1       0.84      0.83      0.84      5134\n",
            "           2       0.91      0.93      0.92      8032\n",
            "           3       0.98      0.97      0.98      5674\n",
            "           4       0.77      0.77      0.77      2300\n",
            "\n",
            "    accuracy                           0.88     24083\n",
            "   macro avg       0.85      0.85      0.85     24083\n",
            "weighted avg       0.88      0.88      0.88     24083\n",
            "\n"
          ]
        }
      ]
    },
    {
      "cell_type": "code",
      "source": [],
      "metadata": {
        "colab": {
          "base_uri": "https://localhost:8080/"
        },
        "id": "eCB2_6w28qoB",
        "outputId": "5b64de66-6c62-4367-f5d3-25ef9b313589"
      },
      "id": "eCB2_6w28qoB",
      "execution_count": null,
      "outputs": [
        {
          "output_type": "execute_result",
          "data": {
            "text/plain": [
              "array([[0., 0., 0., 0., 1.],\n",
              "       [0., 0., 1., 0., 0.],\n",
              "       [0., 0., 1., 0., 0.],\n",
              "       ...,\n",
              "       [0., 1., 0., 0., 0.],\n",
              "       [0., 0., 0., 1., 0.],\n",
              "       [1., 0., 0., 0., 0.]], dtype=float32)"
            ]
          },
          "metadata": {},
          "execution_count": 17
        }
      ]
    },
    {
      "cell_type": "code",
      "source": [
        "plt.plot(history.history['accuracy'], label='Train Accuracy')\n",
        "plt.plot(history.history['val_accuracy'], label='Validation Accuracy')\n",
        "plt.title('Dense Model Accuracy')\n",
        "plt.xlabel('Epochs')\n",
        "plt.ylabel('Accuracy')\n",
        "plt.xticks([0, 1, 2, 3, 4])\n",
        "plt.legend()\n",
        "plt.show()"
      ],
      "metadata": {
        "colab": {
          "base_uri": "https://localhost:8080/",
          "height": 472
        },
        "id": "6p-zI_wb5l4Z",
        "outputId": "8ed2b79d-03b9-4aff-fae6-04f3f1f12845"
      },
      "id": "6p-zI_wb5l4Z",
      "execution_count": null,
      "outputs": [
        {
          "output_type": "display_data",
          "data": {
            "text/plain": [
              "<Figure size 640x480 with 1 Axes>"
            ],
            "image/png": "[encoded data removed]"
          },
          "metadata": {}
        }
      ]
    },
    {
      "cell_type": "markdown",
      "id": "779ad0d4",
      "metadata": {
        "id": "779ad0d4"
      },
      "source": [
        "# Second model"
      ]
    },
    {
      "cell_type": "code",
      "execution_count": null,
      "id": "5a3bc87e",
      "metadata": {
        "colab": {
          "base_uri": "https://localhost:8080/"
        },
        "id": "5a3bc87e",
        "outputId": "8bc7d213-7cd4-4a07-e119-f43c0e0fe8a2"
      },
      "outputs": [
        {
          "output_type": "stream",
          "name": "stdout",
          "text": [
            "Model: \"sequential_2\"\n",
            "_________________________________________________________________\n",
            " Layer (type)                Output Shape              Param #   \n",
            "=================================================================\n",
            " embedding_2 (Embedding)     (None, 23, 100)           4005500   \n",
            "                                                                 \n",
            " conv1d (Conv1D)             (None, 20, 64)            25664     \n",
            "                                                                 \n",
            " batch_normalization (Batch  (None, 20, 64)            256       \n",
            " Normalization)                                                  \n",
            "                                                                 \n",
            " max_pooling1d (MaxPooling1  (None, 6, 64)             0         \n",
            " D)                                                              \n",
            "                                                                 \n",
            " dropout_2 (Dropout)         (None, 6, 64)             0         \n",
            "                                                                 \n",
            " flatten (Flatten)           (None, 384)               0         \n",
            "                                                                 \n",
            " dense_4 (Dense)             (None, 128)               49280     \n",
            "                                                                 \n",
            " dropout_3 (Dropout)         (None, 128)               0         \n",
            "                                                                 \n",
            " dense_5 (Dense)             (None, 5)                 645       \n",
            "                                                                 \n",
            "=================================================================\n",
            "Total params: 4081345 (15.57 MB)\n",
            "Trainable params: 4081217 (15.57 MB)\n",
            "Non-trainable params: 128 (512.00 Byte)\n",
            "_________________________________________________________________\n"
          ]
        }
      ],
      "source": [
        "model_conv = Sequential()\n",
        "model_conv.add(Input(shape=(max_seq_length,)))\n",
        "model_conv.add(Embedding(vocab_size, embedding_size, input_length=max_seq_length))\n",
        "model_conv.add(Conv1D(filters=64, kernel_size=4, activation='relu'))\n",
        "model_conv.add(BatchNormalization())\n",
        "model_conv.add(MaxPooling1D(pool_size=3))\n",
        "model_conv.add(Dropout(0.2))\n",
        "model_conv.add(Flatten())\n",
        "model_conv.add(Dense(128, activation='elu'))\n",
        "model_conv.add(Dropout(0.2))\n",
        "model_conv.add(Dense(num_classes, activation='softmax'))\n",
        "\n",
        "model_conv.compile(optimizer='adam', loss='categorical_crossentropy', metrics=['accuracy'])\n",
        "model_conv.summary()"
      ]
    },
    {
      "cell_type": "code",
      "execution_count": null,
      "id": "181733f0",
      "metadata": {
        "colab": {
          "base_uri": "https://localhost:8080/"
        },
        "id": "181733f0",
        "outputId": "491a40a4-1f5c-49ac-af49-f998b223e846"
      },
      "outputs": [
        {
          "output_type": "stream",
          "name": "stdout",
          "text": [
            "Epoch 1/5\n",
            "1506/1506 [==============================] - 123s 80ms/step - loss: 0.4873 - accuracy: 0.8205 - val_loss: 0.3300 - val_accuracy: 0.8766\n",
            "Epoch 2/5\n",
            "1506/1506 [==============================] - 113s 75ms/step - loss: 0.1952 - accuracy: 0.9298 - val_loss: 0.3733 - val_accuracy: 0.8727\n",
            "Epoch 3/5\n",
            "1506/1506 [==============================] - 117s 78ms/step - loss: 0.1051 - accuracy: 0.9627 - val_loss: 0.4280 - val_accuracy: 0.8675\n",
            "Epoch 4/5\n",
            "1506/1506 [==============================] - 108s 72ms/step - loss: 0.0698 - accuracy: 0.9752 - val_loss: 0.5144 - val_accuracy: 0.8664\n",
            "Epoch 5/5\n",
            "1506/1506 [==============================] - 102s 68ms/step - loss: 0.0503 - accuracy: 0.9825 - val_loss: 0.6114 - val_accuracy: 0.8621\n"
          ]
        }
      ],
      "source": [
        "batch_size = 64\n",
        "epochs = 5\n",
        "with tf.device('/GPU:0'):\n",
        "    history_conv = model_conv.fit(train_sequences, train_labels, batch_size=batch_size, epochs=epochs, validation_data=(test_sequences, test_labels))"
      ]
    },
    {
      "cell_type": "code",
      "execution_count": null,
      "id": "bce96474",
      "metadata": {
        "colab": {
          "base_uri": "https://localhost:8080/"
        },
        "id": "bce96474",
        "outputId": "d0d63a54-8dce-4f35-93d5-3ffd2cacac9c"
      },
      "outputs": [
        {
          "output_type": "stream",
          "name": "stdout",
          "text": [
            "753/753 [==============================] - 3s 4ms/step - loss: 0.6114 - accuracy: 0.8621\n"
          ]
        }
      ],
      "source": [
        "loss_conv, accuracy_conv = model_conv.evaluate(test_sequences, test_labels)"
      ]
    },
    {
      "cell_type": "code",
      "source": [
        "predictions = model_conv.predict(test_sequences)\n",
        "predicted_labels = np.argmax(predictions, axis=1)\n",
        "\n",
        "print(classification_report(np.argmax(test_labels, axis=1), predicted_labels))"
      ],
      "metadata": {
        "colab": {
          "base_uri": "https://localhost:8080/"
        },
        "id": "NW8Wfj4h9UNM",
        "outputId": "45205ad7-b0c5-4306-aa6c-d96104e952bb"
      },
      "id": "NW8Wfj4h9UNM",
      "execution_count": null,
      "outputs": [
        {
          "output_type": "stream",
          "name": "stdout",
          "text": [
            "753/753 [==============================] - 5s 6ms/step\n",
            "              precision    recall  f1-score   support\n",
            "\n",
            "           0       0.76      0.66      0.71      2943\n",
            "           1       0.77      0.87      0.82      5134\n",
            "           2       0.92      0.89      0.91      8032\n",
            "           3       0.97      0.97      0.97      5674\n",
            "           4       0.74      0.73      0.74      2300\n",
            "\n",
            "    accuracy                           0.86     24083\n",
            "   macro avg       0.83      0.83      0.83     24083\n",
            "weighted avg       0.86      0.86      0.86     24083\n",
            "\n"
          ]
        }
      ]
    },
    {
      "cell_type": "code",
      "source": [
        "plt.plot(history_conv.history['accuracy'], label='Train Accuracy')\n",
        "plt.plot(history_conv.history['val_accuracy'], label='Validation Accuracy')\n",
        "plt.title('Convolutional Model Accuracy')\n",
        "plt.xlabel('Epochs')\n",
        "plt.ylabel('Accuracy')\n",
        "plt.xticks([0, 1, 2, 3, 4])\n",
        "plt.legend()\n",
        "plt.show()"
      ],
      "metadata": {
        "colab": {
          "base_uri": "https://localhost:8080/",
          "height": 472
        },
        "id": "inpQDMnkAKV3",
        "outputId": "d25324e8-1efb-47a8-ddcf-c5cd0e30c9b2"
      },
      "id": "inpQDMnkAKV3",
      "execution_count": null,
      "outputs": [
        {
          "output_type": "display_data",
          "data": {
            "text/plain": [
              "<Figure size 640x480 with 1 Axes>"
            ],
            "image/png": "[encoded data removed]"
          },
          "metadata": {}
        }
      ]
    },
    {
      "cell_type": "markdown",
      "source": [
        "# LSTM"
      ],
      "metadata": {
        "id": "jHFhExjv0Ulk"
      },
      "id": "jHFhExjv0Ulk"
    },
    {
      "cell_type": "code",
      "source": [
        "model_rnn = Sequential()\n",
        "model_rnn.add(Input(shape=(max_seq_length,)))\n",
        "model_rnn.add(Embedding(vocab_size, embedding_size, input_length=max_seq_length))\n",
        "model_rnn.add(LSTM(128, return_sequences=True))\n",
        "model_rnn.add(Dropout(0.5))\n",
        "model_rnn.add(LSTM(64, return_sequences=True))\n",
        "model_rnn.add(Dropout(0.2))\n",
        "model_rnn.add(LSTM(32, return_sequences=False))\n",
        "model_rnn.add(Dropout(0.2))\n",
        "model_rnn.add(Dense(num_classes, activation='softmax'))\n",
        "model_rnn.compile(optimizer='adam', loss='categorical_crossentropy', metrics=['accuracy'])\n",
        "model_rnn.summary()"
      ],
      "metadata": {
        "colab": {
          "base_uri": "https://localhost:8080/"
        },
        "id": "r9JfRVxsJJgM",
        "outputId": "59db8b0a-e77d-4867-fab0-0f0291172c87"
      },
      "id": "r9JfRVxsJJgM",
      "execution_count": null,
      "outputs": [
        {
          "output_type": "stream",
          "name": "stdout",
          "text": [
            "Model: \"sequential_3\"\n",
            "_________________________________________________________________\n",
            " Layer (type)                Output Shape              Param #   \n",
            "=================================================================\n",
            " embedding_3 (Embedding)     (None, 23, 100)           4005500   \n",
            "                                                                 \n",
            " lstm (LSTM)                 (None, 23, 128)           117248    \n",
            "                                                                 \n",
            " dropout_4 (Dropout)         (None, 23, 128)           0         \n",
            "                                                                 \n",
            " lstm_1 (LSTM)               (None, 23, 64)            49408     \n",
            "                                                                 \n",
            " dropout_5 (Dropout)         (None, 23, 64)            0         \n",
            "                                                                 \n",
            " lstm_2 (LSTM)               (None, 32)                12416     \n",
            "                                                                 \n",
            " dropout_6 (Dropout)         (None, 32)                0         \n",
            "                                                                 \n",
            " dense_6 (Dense)             (None, 5)                 165       \n",
            "                                                                 \n",
            "=================================================================\n",
            "Total params: 4184737 (15.96 MB)\n",
            "Trainable params: 4184737 (15.96 MB)\n",
            "Non-trainable params: 0 (0.00 Byte)\n",
            "_________________________________________________________________\n"
          ]
        }
      ]
    },
    {
      "cell_type": "code",
      "source": [
        "batch_size = 64\n",
        "epochs = 5\n",
        "with tf.device('/GPU:0'):\n",
        "    history_rnn = model_rnn.fit(train_sequences, train_labels, batch_size=batch_size, epochs=epochs, validation_data=(test_sequences, test_labels))"
      ],
      "metadata": {
        "colab": {
          "base_uri": "https://localhost:8080/"
        },
        "id": "iDQgSrV2JJiY",
        "outputId": "948a11a6-41a9-443e-9ee7-cdbf62a687ee"
      },
      "id": "iDQgSrV2JJiY",
      "execution_count": null,
      "outputs": [
        {
          "output_type": "stream",
          "name": "stdout",
          "text": [
            "Epoch 1/5\n",
            "1506/1506 [==============================] - 313s 198ms/step - loss: 0.5318 - accuracy: 0.8002 - val_loss: 0.3550 - val_accuracy: 0.8750\n",
            "Epoch 2/5\n",
            "1506/1506 [==============================] - 263s 174ms/step - loss: 0.2661 - accuracy: 0.9070 - val_loss: 0.3672 - val_accuracy: 0.8702\n",
            "Epoch 3/5\n",
            "1506/1506 [==============================] - 256s 170ms/step - loss: 0.1919 - accuracy: 0.9341 - val_loss: 0.3973 - val_accuracy: 0.8751\n",
            "Epoch 4/5\n",
            "1506/1506 [==============================] - 262s 174ms/step - loss: 0.1509 - accuracy: 0.9479 - val_loss: 0.4126 - val_accuracy: 0.8714\n",
            "Epoch 5/5\n",
            "1506/1506 [==============================] - 253s 168ms/step - loss: 0.1199 - accuracy: 0.9593 - val_loss: 0.4712 - val_accuracy: 0.8643\n"
          ]
        }
      ]
    },
    {
      "cell_type": "code",
      "execution_count": null,
      "id": "daecf890",
      "metadata": {
        "colab": {
          "base_uri": "https://localhost:8080/"
        },
        "id": "daecf890",
        "outputId": "a704c3f3-1264-4439-b77a-775b02dc4147"
      },
      "outputs": [
        {
          "output_type": "stream",
          "name": "stdout",
          "text": [
            "753/753 [==============================] - 18s 24ms/step - loss: 0.4712 - accuracy: 0.8643\n"
          ]
        }
      ],
      "source": [
        "loss_lstm, accuracy_lstm = model_rnn.evaluate(test_sequences, test_labels)"
      ]
    },
    {
      "cell_type": "code",
      "execution_count": null,
      "id": "28c5bf06",
      "metadata": {
        "id": "28c5bf06",
        "colab": {
          "base_uri": "https://localhost:8080/"
        },
        "outputId": "3e2e7df6-9ea8-42c1-a1d6-c9f227797e6a"
      },
      "outputs": [
        {
          "output_type": "stream",
          "name": "stdout",
          "text": [
            "753/753 [==============================] - 24s 30ms/step\n",
            "              precision    recall  f1-score   support\n",
            "\n",
            "           0       0.71      0.74      0.73      2943\n",
            "           1       0.82      0.80      0.81      5134\n",
            "           2       0.91      0.91      0.91      8032\n",
            "           3       0.98      0.95      0.97      5674\n",
            "           4       0.73      0.79      0.76      2300\n",
            "\n",
            "    accuracy                           0.86     24083\n",
            "   macro avg       0.83      0.84      0.83     24083\n",
            "weighted avg       0.87      0.86      0.87     24083\n",
            "\n"
          ]
        }
      ],
      "source": [
        "predictions = model_rnn.predict(test_sequences)\n",
        "predicted_labels = np.argmax(predictions, axis=1)\n",
        "\n",
        "print(classification_report(np.argmax(test_labels, axis=1), predicted_labels))"
      ]
    },
    {
      "cell_type": "code",
      "source": [
        "plt.plot(history_rnn.history['accuracy'], label='Train Accuracy')\n",
        "plt.plot(history_rnn.history['val_accuracy'], label='Validation Accuracy')\n",
        "plt.title('LSTM Model Accuracy')\n",
        "plt.xlabel('Epochs')\n",
        "plt.ylabel('Accuracy')\n",
        "plt.xticks([0, 1, 2, 3, 4])\n",
        "plt.legend()\n",
        "plt.show()"
      ],
      "metadata": {
        "colab": {
          "base_uri": "https://localhost:8080/",
          "height": 472
        },
        "id": "lZqg994nAuwC",
        "outputId": "0f79915c-7c2f-4f5e-b14c-265ebbf12342"
      },
      "id": "lZqg994nAuwC",
      "execution_count": null,
      "outputs": [
        {
          "output_type": "display_data",
          "data": {
            "text/plain": [
              "<Figure size 640x480 with 1 Axes>"
            ],
            "image/png": "[encoded data removed]"
          },
          "metadata": {}
        }
      ]
    },
    {
      "cell_type": "code",
      "source": [],
      "metadata": {
        "id": "weqTe6L00yOM"
      },
      "id": "weqTe6L00yOM",
      "execution_count": null,
      "outputs": []
    }
  ],
  "metadata": {
    "kernelspec": {
      "display_name": "Python 3",
      "name": "python3"
    },
    "language_info": {
      "codemirror_mode": {
        "name": "ipython",
        "version": 3
      },
      "file_extension": ".py",
      "mimetype": "text/x-python",
      "name": "python",
      "nbconvert_exporter": "python",
      "pygments_lexer": "ipython3",
      "version": "3.10.6"
    },
    "colab": {
      "provenance": []
    }
  },
  "nbformat": 4,
  "nbformat_minor": 5
}